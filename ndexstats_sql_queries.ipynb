{
 "cells": [
  {
   "cell_type": "code",
   "execution_count": null,
   "metadata": {
    "collapsed": true
   },
   "outputs": [],
   "source": [
    "CREATE TABLE public.ndexstats\n",
    "(\n",
    "    transaction_id character varying(30) NOT NULL,\n",
    "    api character varying(100),\n",
    "    transaction_type character varying(10),\n",
    "    client_ip inet, \n",
    "    transaction_duration_in_ms bigint,\n",
    "    transaction_start character varying(30),\n",
    "    transaction_end character varying(30),\n",
    "    account character varying(100),\n",
    "    log_entry_start text,\n",
    "    log_entry_end text,\n",
    "    CONSTRAINT transaction_id PRIMARY KEY (transaction_id)\n",
    ")\n",
    "WITH (\n",
    "  OIDS=FALSE\n",
    ");\n",
    "ALTER TABLE public.ndexstats\n",
    "  OWNER TO ndexstats;\n",
    "    \n",
    "    \n",
    "select transaction_start, \n",
    "       to_timestamp(transaction_start,'YYYY-MM-DD HH24:MI:SS,MS'),\n",
    "       extract(epoch from to_timestamp(transaction_start,'YYYY-MM-DD HH24:MI:SS,MS'))*1000\n",
    "from ndexstats where transaction_id = '2016-02-27-13-30-35-456-88'\n",
    "\n",
    "\n",
    "select * from ndexstats where \n",
    "transaction_id = '2016-02-27-13-30-35-456-88'\n",
    "\n",
    "select * from ndexstats order by api\n",
    "\n",
    "select count(*) from ndexstats where api = 'AdminService.getStatus'\n",
    "\n",
    "select count(*) from ndexstats where api = 'GroupService.findGroups'\n",
    "\n",
    "select count(*) from ndexstats where api = 'NetworkAService.getEdges'\n",
    "\n",
    "select count(*) from ndexstats where api = 'TaskService.createTask'"
   ]
  }
 ],
 "metadata": {
  "anaconda-cloud": {},
  "kernelspec": {
   "display_name": "Python [Root]",
   "language": "python",
   "name": "Python [Root]"
  },
  "language_info": {
   "codemirror_mode": {
    "name": "ipython",
    "version": 2
   },
   "file_extension": ".py",
   "mimetype": "text/x-python",
   "name": "python",
   "nbconvert_exporter": "python",
   "pygments_lexer": "ipython2",
   "version": "2.7.12"
  }
 },
 "nbformat": 4,
 "nbformat_minor": 0
}
