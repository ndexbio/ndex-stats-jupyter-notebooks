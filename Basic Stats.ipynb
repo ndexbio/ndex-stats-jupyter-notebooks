{
 "cells": [
  {
   "cell_type": "code",
   "execution_count": 56,
   "metadata": {},
   "outputs": [],
   "source": [
    "import psycopg2\n",
    "import sys\n",
    "import re\n",
    "import numpy as np\n",
    "import pandas as pd\n",
    "import pandas.io.sql as sqlio\n",
    "from scipy import stats, integrate\n",
    "from os.path import isfile, expanduser\n",
    "import json\n",
    "import datetime\n",
    "\n",
    "%matplotlib inline\n",
    "import matplotlib.pyplot as plt"
   ]
  },
  {
   "cell_type": "code",
   "execution_count": 37,
   "metadata": {},
   "outputs": [],
   "source": [
    "config_file = expanduser(\"~/ndexstats_config.json\")\n",
    "my_username = None\n",
    "my_password = None\n",
    "my_port = \"5432\"\n",
    "my_host = \"stats.ndexbio.org\"\n",
    "my_db_name = 'ndexstats'\n",
    "\n",
    "if(isfile(config_file)):\n",
    "    file = open(config_file, \"r\")\n",
    "    data = json.load(file)\n",
    "    file.close()\n",
    "    if data.get(\"password\") and data.get(\"username\"):\n",
    "        my_username = data.get(\"username\")\n",
    "        my_password = data.get(\"password\")\n",
    "    else:\n",
    "        print(\"Error: \" + config_file + \" does not define username and password\")\n",
    "else:\n",
    "    print(\"Error: \" + config_file + \" was not found\")"
   ]
  },
  {
   "cell_type": "code",
   "execution_count": 38,
   "metadata": {},
   "outputs": [
    {
     "name": "stdout",
     "output_type": "stream",
     "text": [
      "will connect with\n",
      "host='stats.ndexbio.org' port='5432'  dbname='ndexstats'  user='ndexstats'  password='dashboard2018'\n",
      "-----\n",
      "select date_trunc('day', start_time) as d, count(*) from request_record_raw  where function_name = 'getCompleteNetworkAsCX' and start_time > '2018-01-12' and start_time < '2018-02-12' group by d order by d asc;\n",
      "-----\n",
      "select date_trunc('day', start_time) as d, count(*) from request_record_raw where function_name = 'searchNetwork' and start_time > '2018-01-12' and start_time < '2018-02-12' group by d order by d asc;\n"
     ]
    }
   ],
   "source": [
    "# Define our connection string\n",
    "#conn_string = \"host=\" + my_host + \" port=\" + my_port + \" dbname=\" + my_db_name + \\\n",
    "#    \" user=\" + my_username + \" password=\" + my_password\n",
    "    \n",
    "conn_string = \"host='{}' port='{}'  dbname='{}'  user='{}'  password='{}'\".format(\n",
    "        my_host, \n",
    "        my_port, \n",
    "        my_db_name, \n",
    "        my_username, \n",
    "        my_password)\n",
    "\n",
    "print(\"will connect with\\n{}\".format(conn_string))\n",
    "\n",
    "get_network_by_day = \"select date_trunc('day', start_time) as d, count(*) from request_record_raw  \" + \\\n",
    "      \"where function_name = 'getCompleteNetworkAsCX' \" + \\\n",
    "      \"and start_time > '2018-01-12' \" + \\\n",
    "      \"and start_time < '2018-02-12' \" + \\\n",
    "      \"group by d \" + \\\n",
    "      \"order by d asc;\"\n",
    "\n",
    "print(\"-----\")\n",
    "print(get_network_by_day)\n",
    "\n",
    "get_anon_search_by_day = \"select date_trunc('day', start_time) as d, count(*) from request_record_raw \" + \\\n",
    "      \"where function_name = 'searchNetwork' \" + \\\n",
    "      \"and start_time > '2018-01-12' \" + \\\n",
    "      \"and start_time < '2018-02-12' \" + \\\n",
    "      \"group by d \" + \\\n",
    "      \"order by d asc;\"\n",
    "\n",
    "print(\"-----\")\n",
    "print(get_anon_search_by_day)"
   ]
  },
  {
   "cell_type": "code",
   "execution_count": 64,
   "metadata": {},
   "outputs": [
    {
     "data": {
      "image/png": "[encoded data removed]",
      "text/plain": [
       "<matplotlib.figure.Figure at 0x1179e6588>"
      ]
     },
     "metadata": {},
     "output_type": "display_data"
    }
   ],
   "source": [
    "try:\n",
    "    #conn = psycopg2.connect(conn_string)\n",
    "    conn = psycopg2.connect(\n",
    "        host=my_host,\n",
    "        port=my_port,\n",
    "        dbname=my_db_name,\n",
    "        user=my_username,\n",
    "        password=my_password)\n",
    "    #print(\"-----\")\n",
    "    #print(conn)\n",
    "    network_by_day_df = sqlio.read_sql_query(get_network_by_day, conn)\n",
    "    network_by_day_df.rename(index=str, inplace=True, columns={\"count\": \"networks accessed\", \"d\": \"date\"})\n",
    "    \n",
    "    anon_by_day_df = sqlio.read_sql_query(get_anon_search_by_day, conn)\n",
    "    anon_by_day_df.rename(index=str, inplace=True, columns={\"count\": \"anon searches\", \"d\": \"date\"})\n",
    "    #print(\"-----\")\n",
    "    #\n",
    "    conn.close()\n",
    "    \n",
    "    merged = pd.merge(network_by_day_df, anon_by_day_df, on='date')\n",
    "    merged['date'] = merged['date'].apply(lambda x: x.strftime('%m/%d'))\n",
    "    \n",
    "    #merged.applymap(lambda x: )\n",
    "    #print(merged)\n",
    "                    \n",
    "    merged.plot(\n",
    "        x='date',\n",
    "        #y='count',\n",
    "        kind='bar',\n",
    "        grid=True,\n",
    "        #colormap='autumn',\n",
    "        alpha=0.5,\n",
    "        figsize=(16,8),\n",
    "        title='Network Access and Anonymous Searches (not including browse)',\n",
    "        width=.8, \n",
    "        linewidth=1.2 \n",
    "        #stacked=True\n",
    "    )\n",
    "\n",
    "    plt.xlabel('date')\n",
    "    plt.ylabel('count')\n",
    "    fig_file = expanduser(\"~/stats/access_and_searches.jpg\")\n",
    "    plt.savefig(fig_file)\n",
    "except:\n",
    "    e = sys.exc_info()[0]\n",
    "    print(\"Error: %s %tb\" % e)\n",
    "    sys.exit()"
   ]
  },
  {
   "cell_type": "code",
   "execution_count": null,
   "metadata": {
    "collapsed": true
   },
   "outputs": [],
   "source": []
  }
 ],
 "metadata": {
  "anaconda-cloud": {},
  "kernelspec": {
   "display_name": "Python [conda env:py36]",
   "language": "python",
   "name": "conda-env-py36-py"
  },
  "language_info": {
   "codemirror_mode": {
    "name": "ipython",
    "version": 3
   },
   "file_extension": ".py",
   "mimetype": "text/x-python",
   "name": "python",
   "nbconvert_exporter": "python",
   "pygments_lexer": "ipython3",
   "version": "3.6.1"
  }
 },
 "nbformat": 4,
 "nbformat_minor": 1
}
