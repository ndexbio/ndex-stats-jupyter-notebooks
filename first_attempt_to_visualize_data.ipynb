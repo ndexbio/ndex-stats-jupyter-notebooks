{
 "cells": [
  {
   "cell_type": "code",
   "execution_count": null,
   "metadata": {
    "collapsed": false
   },
   "outputs": [],
   "source": [
    "import psycopg2\n",
    "import sys\n",
    "import re\n",
    "\n",
    "\n",
    "import numpy as np\n",
    "import pandas as pd\n",
    "from scipy import stats, integrate\n",
    "\n",
    "%matplotlib inline\n",
    "import matplotlib.pyplot as plt\n",
    "\n",
    "\n",
    "# Define our connection string\n",
    "conn_string = \"host='' port='' dbname='' user='' password=''\"\n",
    "\n",
    "# print the connection string we will use to connect\n",
    "# print \"Connecting to database\\n\\t->%s\" % (conn_string)\n",
    "\n",
    "# get a connection, if a connect cannot be made an exception will be raised here\n",
    "try:\n",
    "    conn = psycopg2.connect(conn_string)\n",
    "except:\n",
    "    e = sys.exc_info()[0]\n",
    "    print \"Error: %s\" % e \n",
    "    sys.exit()\n",
    "\n",
    "\n",
    "# conn.cursor will return a cursor object, you can use this cursor to perform queries\n",
    "cursor = conn.cursor()\n",
    "# print \"Connected!\\n\"\n",
    "\n",
    "\n",
    "query1 = \"select count(*) from ndexstats where api = 'AdminService.getStatus'\"\n",
    "query2 = \"select count(*) from ndexstats where api = 'GroupService.findGroups'\"\n",
    "query3 = \"select count(*) from ndexstats where api = 'NetworkAService.getEdges'\"  \n",
    "query4 = \"select count(*) from ndexstats where api = 'TaskService.createTask'\"\n",
    "query5 = \"select count(*) from ndexstats where api = 'TaskService.deleteTask'\"\n",
    "\n",
    "\n",
    "\n",
    "cursor.execute(query1)\n",
    "number_of_getStatus = cursor.fetchone()[0]\n",
    "\n",
    "cursor.execute(query2)\n",
    "number_of_findGroups = cursor.fetchone()[0]\n",
    "\n",
    "cursor.execute(query3)\n",
    "number_of_getEdges = cursor.fetchone()[0]\n",
    "\n",
    "cursor.execute(query4)\n",
    "number_of_createTask = cursor.fetchone()[0]\n",
    "\n",
    "cursor.execute(query5)\n",
    "number_of_deleteTask = cursor.fetchone()[0]\n",
    "\n",
    "cursor.close()\n",
    "conn.close()\n",
    "\n",
    "print \"number_of_getStatus=\", number_of_getStatus, \" number_of_findGroups=\", number_of_findGroups, \\\n",
    "    \" number_of_getEdges=\", number_of_getEdges, \" number_of_createTask=\", number_of_createTask, \\\n",
    "    \" number_of_deleteTask=\", number_of_deleteTask\n",
    "\n",
    "\n",
    "#apis = ['getStatus', 'findGroups', 'getEdges', 'createTask', 'deleteTask' ]\n",
    "#number_of_calls = [number_of_getStatus, number_of_findGroups, \\\n",
    "#                   number_of_getEdges, number_of_createTask, number_of_deleteTask]\n",
    "\n",
    "#dataSet = list(zip(apis, number_of_calls))\n",
    "#print 'dataSet=', dataSet\n",
    "\n",
    "df = pd.DataFrame({\n",
    "    'AdminService.getStatus': [number_of_getStatus, 8],\n",
    "    'GroupService.findGroups': [number_of_findGroups, 9],\n",
    "    'NetworkAService.getEdges': [number_of_getEdges, 6],\n",
    "    'TaskService.createTask': [number_of_createTask, 4],\n",
    "    'TaskService.deleteTask': [number_of_deleteTask, 22], \n",
    "})\n",
    "\n",
    "df\n"
   ]
  },
  {
   "cell_type": "code",
   "execution_count": null,
   "metadata": {
    "collapsed": false,
    "scrolled": true
   },
   "outputs": [],
   "source": [
    "# colormap reference is here : http://matplotlib.org/examples/color/colormaps_reference.html\n",
    "ax = df.plot(kind='bar', title='API Calls for Feb.27, 2016', legend=True, alpha=0.5, figsize=(8,5), \\\n",
    "             grid=True, colormap='winter')\n",
    "\n",
    "\n",
    "plt.xlabel('API')\n",
    "plt.ylabel('No of Calls')\n",
    "plt.ylim(0,32)"
   ]
  },
  {
   "cell_type": "code",
   "execution_count": null,
   "metadata": {
    "collapsed": true
   },
   "outputs": [],
   "source": []
  }
 ],
 "metadata": {
  "anaconda-cloud": {},
  "kernelspec": {
   "display_name": "Python [Root]",
   "language": "python",
   "name": "Python [Root]"
  },
  "language_info": {
   "codemirror_mode": {
    "name": "ipython",
    "version": 2
   },
   "file_extension": ".py",
   "mimetype": "text/x-python",
   "name": "python",
   "nbconvert_exporter": "python",
   "pygments_lexer": "ipython2",
   "version": "2.7.12"
  }
 },
 "nbformat": 4,
 "nbformat_minor": 0
}
