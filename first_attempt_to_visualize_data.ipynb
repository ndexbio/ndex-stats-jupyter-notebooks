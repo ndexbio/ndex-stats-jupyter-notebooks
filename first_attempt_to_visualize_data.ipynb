{
 "cells": [
  {
   "cell_type": "code",
   "execution_count": 1,
   "metadata": {
    "collapsed": false
   },
   "outputs": [
    {
     "name": "stdout",
     "output_type": "stream",
     "text": [
      "number_of_getStatus= 4  number_of_findGroups= 13  number_of_getEdges= 11  number_of_createTask= 4  number_of_deleteTask= 31\n"
     ]
    },
    {
     "data": {
      "text/html": [
       "<div>\n",
       "<table border=\"1\" class=\"dataframe\">\n",
       "  <thead>\n",
       "    <tr style=\"text-align: right;\">\n",
       "      <th></th>\n",
       "      <th>AdminService.getStatus</th>\n",
       "      <th>GroupService.findGroups</th>\n",
       "      <th>NetworkAService.getEdges</th>\n",
       "      <th>TaskService.createTask</th>\n",
       "      <th>TaskService.deleteTask</th>\n",
       "    </tr>\n",
       "  </thead>\n",
       "  <tbody>\n",
       "    <tr>\n",
       "      <th>0</th>\n",
       "      <td>4</td>\n",
       "      <td>13</td>\n",
       "      <td>11</td>\n",
       "      <td>4</td>\n",
       "      <td>31</td>\n",
       "    </tr>\n",
       "    <tr>\n",
       "      <th>1</th>\n",
       "      <td>8</td>\n",
       "      <td>9</td>\n",
       "      <td>6</td>\n",
       "      <td>4</td>\n",
       "      <td>22</td>\n",
       "    </tr>\n",
       "  </tbody>\n",
       "</table>\n",
       "</div>"
      ],
      "text/plain": [
       "   AdminService.getStatus  GroupService.findGroups  NetworkAService.getEdges  \\\n",
       "0                       4                       13                        11   \n",
       "1                       8                        9                         6   \n",
       "\n",
       "   TaskService.createTask  TaskService.deleteTask  \n",
       "0                       4                      31  \n",
       "1                       4                      22  "
      ]
     },
     "execution_count": 1,
     "metadata": {},
     "output_type": "execute_result"
    }
   ],
   "source": [
    "import psycopg2\n",
    "import sys\n",
    "import re\n",
    "\n",
    "\n",
    "import numpy as np\n",
    "import pandas as pd\n",
    "from scipy import stats, integrate\n",
    "\n",
    "%matplotlib inline\n",
    "import matplotlib.pyplot as plt\n",
    "\n",
    "\n",
    "#Define our connection string\n",
    "conn_string = \"host='52.43.75.12' port='5432' dbname='ndexstats' user='ndexstats' password='dashboard101'\"\n",
    "\n",
    "# print the connection string we will use to connect\n",
    "# print \"Connecting to database\\n\\t->%s\" % (conn_string)\n",
    "\n",
    "# get a connection, if a connect cannot be made an exception will be raised here\n",
    "try:\n",
    "    conn = psycopg2.connect(conn_string)\n",
    "except:\n",
    "    e = sys.exc_info()[0]\n",
    "    print \"Error: %s\" % e \n",
    "    sys.exit()\n",
    "\n",
    "\n",
    "# conn.cursor will return a cursor object, you can use this cursor to perform queries\n",
    "cursor = conn.cursor()\n",
    "# print \"Connected!\\n\"\n",
    "\n",
    "\n",
    "query1 = \"select count(*) from ndexstats where api = 'AdminService.getStatus'\"\n",
    "query2 = \"select count(*) from ndexstats where api = 'GroupService.findGroups'\"\n",
    "query3 = \"select count(*) from ndexstats where api = 'NetworkAService.getEdges'\"  \n",
    "query4 = \"select count(*) from ndexstats where api = 'TaskService.createTask'\"\n",
    "query5 = \"select count(*) from ndexstats where api = 'TaskService.deleteTask'\"\n",
    "\n",
    "\n",
    "\n",
    "cursor.execute(query1)\n",
    "number_of_getStatus = cursor.fetchone()[0]\n",
    "\n",
    "cursor.execute(query2)\n",
    "number_of_findGroups = cursor.fetchone()[0]\n",
    "\n",
    "cursor.execute(query3)\n",
    "number_of_getEdges = cursor.fetchone()[0]\n",
    "\n",
    "cursor.execute(query4)\n",
    "number_of_createTask = cursor.fetchone()[0]\n",
    "\n",
    "cursor.execute(query5)\n",
    "number_of_deleteTask = cursor.fetchone()[0]\n",
    "\n",
    "cursor.close()\n",
    "conn.close()\n",
    "\n",
    "print \"number_of_getStatus=\", number_of_getStatus, \" number_of_findGroups=\", number_of_findGroups, \\\n",
    "    \" number_of_getEdges=\", number_of_getEdges, \" number_of_createTask=\", number_of_createTask, \\\n",
    "    \" number_of_deleteTask=\", number_of_deleteTask\n",
    "\n",
    "\n",
    "#apis = ['getStatus', 'findGroups', 'getEdges', 'createTask', 'deleteTask' ]\n",
    "#number_of_calls = [number_of_getStatus, number_of_findGroups, \\\n",
    "#                   number_of_getEdges, number_of_createTask, number_of_deleteTask]\n",
    "\n",
    "#dataSet = list(zip(apis, number_of_calls))\n",
    "#print 'dataSet=', dataSet\n",
    "\n",
    "df = pd.DataFrame({\n",
    "    'AdminService.getStatus': [number_of_getStatus, 8],\n",
    "    'GroupService.findGroups': [number_of_findGroups, 9],\n",
    "    'NetworkAService.getEdges': [number_of_getEdges, 6],\n",
    "    'TaskService.createTask': [number_of_createTask, 4],\n",
    "    'TaskService.deleteTask': [number_of_deleteTask, 22], \n",
    "})\n",
    "\n",
    "df\n"
   ]
  },
  {
   "cell_type": "code",
   "execution_count": 2,
   "metadata": {
    "collapsed": false,
    "scrolled": true
   },
   "outputs": [
    {
     "data": {
      "text/plain": [
       "(0, 32)"
      ]
     },
     "execution_count": 2,
     "metadata": {},
     "output_type": "execute_result"
    },
    {
     "data": {
      "image/png": "[encoded data removed]",
      "text/plain": [
       "<matplotlib.figure.Figure at 0x103dcad10>"
      ]
     },
     "metadata": {},
     "output_type": "display_data"
    }
   ],
   "source": [
    "# colormap reference is here : http://matplotlib.org/examples/color/colormaps_reference.html\n",
    "ax = df.plot(kind='bar', title='API Calls for Feb.27, 2016', legend=True, alpha=0.5, figsize=(8,5), \\\n",
    "             grid=True, colormap='winter')\n",
    "\n",
    "\n",
    "plt.xlabel('API')\n",
    "plt.ylabel('No of Calls')\n",
    "plt.ylim(0,32)"
   ]
  },
  {
   "cell_type": "code",
   "execution_count": null,
   "metadata": {
    "collapsed": true
   },
   "outputs": [],
   "source": []
  }
 ],
 "metadata": {
  "anaconda-cloud": {},
  "kernelspec": {
   "display_name": "Python [Root]",
   "language": "python",
   "name": "Python [Root]"
  },
  "language_info": {
   "codemirror_mode": {
    "name": "ipython",
    "version": 2
   },
   "file_extension": ".py",
   "mimetype": "text/x-python",
   "name": "python",
   "nbconvert_exporter": "python",
   "pygments_lexer": "ipython2",
   "version": "2.7.12"
  }
 },
 "nbformat": 4,
 "nbformat_minor": 0
}
